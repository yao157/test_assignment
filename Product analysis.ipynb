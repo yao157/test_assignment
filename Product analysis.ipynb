{
 "cells": [
  {
   "cell_type": "markdown",
   "metadata": {},
   "source": [
    "## Задачі"
   ]
  },
  {
   "cell_type": "markdown",
   "metadata": {},
   "source": [
    "### Завдання 1.0"
   ]
  },
  {
   "cell_type": "markdown",
   "metadata": {},
   "source": [
    "Використовуючи Python та бібліотеку pandas, порахуйте середній за весь період конверт користувачів з тріального періоду (ті, які заплатили перший платіж) в успішно сплачений другий платіж. Для розрахунку метрики включайте лише користувачів, які мають підписку tenwords_1w_9.99_offer."
   ]
  },
  {
   "cell_type": "markdown",
   "metadata": {},
   "source": [
    "### Завдання 1.1"
   ]
  },
  {
   "cell_type": "markdown",
   "metadata": {},
   "source": [
    "Спрогнозувати LTV за пів року життя користувача використовуючи дані **[файл 1](https://docs.google.com/spreadsheets/d/1J1j1Noq9mIFfXXbivUC35gCEioSIn6rUs8tZe-Rrmvs/edit?gid=1120958046#gid=1120958046).**\n",
    "\n",
    "LTV потрібно спрогнозувати тільки для підписки tenwords_1w_9.99_offer. \n",
    "\n",
    "Рішення має містити:\n",
    "\n",
    "- розбиття LTV на компоненти\n",
    "- передбачення компонент на базі історичних даних. (Варто зазначити, що в цьому випадку не вимагається складних математичних моделей чи підходів ML)\n",
    "\n",
    "Структура даних:\n",
    "\n",
    "- refunded=True - гроші за транзакцію повернено;"
   ]
  },
  {
   "cell_type": "markdown",
   "metadata": {},
   "source": [
    "Всі користувачі, що присутні у датасеті виконали перше оформлення підписки за період від початку до кінця датасету. Також датасет містить додаткові колонки country_code (ISO-code країни користувача) та media_source (з якого джерела прийшов користувач), які можуть бути корисними для додаткового завдання 1.2. "
   ]
  },
  {
   "cell_type": "markdown",
   "metadata": {},
   "source": [
    "Важливо пояснити, чому ви вибрали саме такий підхід до оцінки LTV і прокоментувати результати. Для процесування даних в цьому завданні можна використовувати Python або Excel."
   ]
  },
  {
   "cell_type": "markdown",
   "metadata": {},
   "source": [
    "### Завдання 1.2"
   ]
  },
  {
   "cell_type": "markdown",
   "metadata": {},
   "source": [
    "Побудувати інформаційну панель (dashboard) використовуючи Tableau/Python та LTV отриманий у завданні 1.1. Потрібно зобразити ROMI поденно для кожного mediasource з можливістю фільтрації по країнах:\n",
    "\n",
    "Дані з витратами: **[файл 2](https://docs.google.com/spreadsheets/d/1vGyDppIv-IAGeVONsPdetS82MtIYhZa1Rkfig8BM3O8/edit?usp=sharing);**\n",
    "Cost - витрати на маркетинг у $."
   ]
  },
  {
   "cell_type": "markdown",
   "metadata": {},
   "source": [
    "## Імпорт Модулів Python"
   ]
  },
  {
   "cell_type": "markdown",
   "metadata": {},
   "source": [
    "Спочатку імпортуємо основні модулі, які використовуватимуться в цьому проекті.\n",
    "\n",
    "Також заглушаємо застереження."
   ]
  },
  {
   "cell_type": "code",
   "execution_count": 1,
   "metadata": {},
   "outputs": [],
   "source": [
    "import pandas as pd\n",
    "import warnings\n",
    "warnings.filterwarnings('ignore')"
   ]
  },
  {
   "cell_type": "markdown",
   "metadata": {},
   "source": [
    "## Завантаження Даних"
   ]
  },
  {
   "cell_type": "markdown",
   "metadata": {},
   "source": [
    "### Платежі користувачів"
   ]
  },
  {
   "cell_type": "markdown",
   "metadata": {},
   "source": [
    "Для аналізу наданої інформації завантажуємо набори даних у `DataFrame`. Після завантаження як `DataFrame` дані можна досліджувати та візуалізувати за допомогою Python.\n",
    "\n",
    "У наступних кроках `User payments.csv` та `Marketing investments.csv` читаються як `DataFrame`, які називаються `df` та `dfm` відповідно. \n",
    "\n",
    "Щойно створений `DataFrame` проглядається за допомогою `.head()`, а спеціальна функція `.check()` визначена для оцінки типів даних, унікальних значень і нульових значень для кожного стовпця."
   ]
  },
  {
   "cell_type": "code",
   "execution_count": 2,
   "metadata": {},
   "outputs": [],
   "source": [
    "df = pd.read_csv('User payments.csv')"
   ]
  },
  {
   "cell_type": "markdown",
   "metadata": {},
   "source": [
    "Встановлюємо формат datetime та додаємо колонку місяців"
   ]
  },
  {
   "cell_type": "code",
   "execution_count": 3,
   "metadata": {},
   "outputs": [],
   "source": [
    "df['purchase_date'] = pd.to_datetime(df['purchase_date'])\n",
    "df['month'] = df['purchase_date'].dt.month"
   ]
  },
  {
   "cell_type": "code",
   "execution_count": 4,
   "metadata": {},
   "outputs": [
    {
     "data": {
      "text/html": [
       "<div>\n",
       "<style scoped>\n",
       "    .dataframe tbody tr th:only-of-type {\n",
       "        vertical-align: middle;\n",
       "    }\n",
       "\n",
       "    .dataframe tbody tr th {\n",
       "        vertical-align: top;\n",
       "    }\n",
       "\n",
       "    .dataframe thead th {\n",
       "        text-align: right;\n",
       "    }\n",
       "</style>\n",
       "<table border=\"1\" class=\"dataframe\">\n",
       "  <thead>\n",
       "    <tr style=\"text-align: right;\">\n",
       "      <th></th>\n",
       "      <th>user_id</th>\n",
       "      <th>product_id</th>\n",
       "      <th>refunded</th>\n",
       "      <th>purchase_date</th>\n",
       "      <th>country_code</th>\n",
       "      <th>media_source</th>\n",
       "      <th>month</th>\n",
       "    </tr>\n",
       "  </thead>\n",
       "  <tbody>\n",
       "    <tr>\n",
       "      <th>0</th>\n",
       "      <td>2589061</td>\n",
       "      <td>tenwords_1w_7.99_7free</td>\n",
       "      <td>False</td>\n",
       "      <td>2020-09-27</td>\n",
       "      <td>JO</td>\n",
       "      <td>Facebook Ads</td>\n",
       "      <td>9</td>\n",
       "    </tr>\n",
       "    <tr>\n",
       "      <th>1</th>\n",
       "      <td>2604470</td>\n",
       "      <td>tenwords_1w_9.99_offer</td>\n",
       "      <td>False</td>\n",
       "      <td>2020-09-29</td>\n",
       "      <td>UK</td>\n",
       "      <td>Facebook Ads</td>\n",
       "      <td>9</td>\n",
       "    </tr>\n",
       "    <tr>\n",
       "      <th>2</th>\n",
       "      <td>2274467</td>\n",
       "      <td>tenwords_1w_9.99_offer</td>\n",
       "      <td>False</td>\n",
       "      <td>2020-08-18</td>\n",
       "      <td>Organic/Unknown</td>\n",
       "      <td>Organic/Unknown</td>\n",
       "      <td>8</td>\n",
       "    </tr>\n",
       "    <tr>\n",
       "      <th>3</th>\n",
       "      <td>2488755</td>\n",
       "      <td>tenwords_lifetime_limited_49.99</td>\n",
       "      <td>False</td>\n",
       "      <td>2020-09-14</td>\n",
       "      <td>PE</td>\n",
       "      <td>Facebook Ads</td>\n",
       "      <td>9</td>\n",
       "    </tr>\n",
       "    <tr>\n",
       "      <th>4</th>\n",
       "      <td>2571294</td>\n",
       "      <td>tenwords_1w_9.99_offer</td>\n",
       "      <td>False</td>\n",
       "      <td>2020-09-25</td>\n",
       "      <td>US</td>\n",
       "      <td>Google Ads</td>\n",
       "      <td>9</td>\n",
       "    </tr>\n",
       "  </tbody>\n",
       "</table>\n",
       "</div>"
      ],
      "text/plain": [
       "   user_id                       product_id  refunded purchase_date  \\\n",
       "0  2589061           tenwords_1w_7.99_7free     False    2020-09-27   \n",
       "1  2604470           tenwords_1w_9.99_offer     False    2020-09-29   \n",
       "2  2274467           tenwords_1w_9.99_offer     False    2020-08-18   \n",
       "3  2488755  tenwords_lifetime_limited_49.99     False    2020-09-14   \n",
       "4  2571294           tenwords_1w_9.99_offer     False    2020-09-25   \n",
       "\n",
       "      country_code     media_source  month  \n",
       "0               JO     Facebook Ads      9  \n",
       "1               UK     Facebook Ads      9  \n",
       "2  Organic/Unknown  Organic/Unknown      8  \n",
       "3               PE     Facebook Ads      9  \n",
       "4               US       Google Ads      9  "
      ]
     },
     "execution_count": 4,
     "metadata": {},
     "output_type": "execute_result"
    }
   ],
   "source": [
    "df.head()"
   ]
  },
  {
   "cell_type": "code",
   "execution_count": 5,
   "metadata": {},
   "outputs": [
    {
     "data": {
      "text/html": [
       "<div>\n",
       "<style scoped>\n",
       "    .dataframe tbody tr th:only-of-type {\n",
       "        vertical-align: middle;\n",
       "    }\n",
       "\n",
       "    .dataframe tbody tr th {\n",
       "        vertical-align: top;\n",
       "    }\n",
       "\n",
       "    .dataframe thead th {\n",
       "        text-align: right;\n",
       "    }\n",
       "</style>\n",
       "<table border=\"1\" class=\"dataframe\">\n",
       "  <thead>\n",
       "    <tr style=\"text-align: right;\">\n",
       "      <th></th>\n",
       "      <th>column</th>\n",
       "      <th>data types</th>\n",
       "      <th>total values</th>\n",
       "      <th>unique values</th>\n",
       "      <th>null values</th>\n",
       "    </tr>\n",
       "  </thead>\n",
       "  <tbody>\n",
       "    <tr>\n",
       "      <th>0</th>\n",
       "      <td>user_id</td>\n",
       "      <td>int64</td>\n",
       "      <td>62874</td>\n",
       "      <td>29321</td>\n",
       "      <td>0</td>\n",
       "    </tr>\n",
       "    <tr>\n",
       "      <th>1</th>\n",
       "      <td>product_id</td>\n",
       "      <td>object</td>\n",
       "      <td>62874</td>\n",
       "      <td>3</td>\n",
       "      <td>0</td>\n",
       "    </tr>\n",
       "    <tr>\n",
       "      <th>2</th>\n",
       "      <td>refunded</td>\n",
       "      <td>bool</td>\n",
       "      <td>62874</td>\n",
       "      <td>2</td>\n",
       "      <td>0</td>\n",
       "    </tr>\n",
       "    <tr>\n",
       "      <th>3</th>\n",
       "      <td>purchase_date</td>\n",
       "      <td>datetime64[ns]</td>\n",
       "      <td>62874</td>\n",
       "      <td>92</td>\n",
       "      <td>0</td>\n",
       "    </tr>\n",
       "    <tr>\n",
       "      <th>4</th>\n",
       "      <td>country_code</td>\n",
       "      <td>object</td>\n",
       "      <td>62746</td>\n",
       "      <td>200</td>\n",
       "      <td>128</td>\n",
       "    </tr>\n",
       "    <tr>\n",
       "      <th>5</th>\n",
       "      <td>media_source</td>\n",
       "      <td>object</td>\n",
       "      <td>62874</td>\n",
       "      <td>4</td>\n",
       "      <td>0</td>\n",
       "    </tr>\n",
       "    <tr>\n",
       "      <th>6</th>\n",
       "      <td>month</td>\n",
       "      <td>int32</td>\n",
       "      <td>62874</td>\n",
       "      <td>3</td>\n",
       "      <td>0</td>\n",
       "    </tr>\n",
       "  </tbody>\n",
       "</table>\n",
       "</div>"
      ],
      "text/plain": [
       "          column      data types  total values  unique values  null values\n",
       "0        user_id           int64         62874          29321            0\n",
       "1     product_id          object         62874              3            0\n",
       "2       refunded            bool         62874              2            0\n",
       "3  purchase_date  datetime64[ns]         62874             92            0\n",
       "4   country_code          object         62746            200          128\n",
       "5   media_source          object         62874              4            0\n",
       "6          month           int32         62874              3            0"
      ]
     },
     "execution_count": 5,
     "metadata": {},
     "output_type": "execute_result"
    }
   ],
   "source": [
    "def check(df):\n",
    "    list = []\n",
    "    columns = df.columns\n",
    "    for col in columns:\n",
    "        data_types = df[col].dtypes\n",
    "        total_values = df[col].count()\n",
    "        unique_values = df[col].nunique()\n",
    "        null_values = df[col].isnull().sum()\n",
    "        list.append([col, data_types, total_values, unique_values, null_values])\n",
    "    df_check = pd.DataFrame(list)\n",
    "    df_check.columns = ['column', 'data types', 'total values', 'unique values', 'null values']\n",
    "    return df_check\n",
    "check(df)"
   ]
  },
  {
   "cell_type": "markdown",
   "metadata": {},
   "source": [
    "### Маркетингові інвестиції"
   ]
  },
  {
   "cell_type": "markdown",
   "metadata": {},
   "source": [
    "Виконуємо аналогічні функції попереднього `DataFrame`"
   ]
  },
  {
   "cell_type": "code",
   "execution_count": 6,
   "metadata": {},
   "outputs": [],
   "source": [
    "dfm = pd.read_csv('Marketing investments.csv')"
   ]
  },
  {
   "cell_type": "code",
   "execution_count": 7,
   "metadata": {},
   "outputs": [],
   "source": [
    "dfm['date'] = pd.to_datetime(dfm['date'])\n",
    "dfm['month'] = dfm['date'].dt.month"
   ]
  },
  {
   "cell_type": "code",
   "execution_count": 8,
   "metadata": {},
   "outputs": [
    {
     "data": {
      "text/html": [
       "<div>\n",
       "<style scoped>\n",
       "    .dataframe tbody tr th:only-of-type {\n",
       "        vertical-align: middle;\n",
       "    }\n",
       "\n",
       "    .dataframe tbody tr th {\n",
       "        vertical-align: top;\n",
       "    }\n",
       "\n",
       "    .dataframe thead th {\n",
       "        text-align: right;\n",
       "    }\n",
       "</style>\n",
       "<table border=\"1\" class=\"dataframe\">\n",
       "  <thead>\n",
       "    <tr style=\"text-align: right;\">\n",
       "      <th></th>\n",
       "      <th>date</th>\n",
       "      <th>country_code</th>\n",
       "      <th>cost</th>\n",
       "      <th>media_source</th>\n",
       "      <th>month</th>\n",
       "    </tr>\n",
       "  </thead>\n",
       "  <tbody>\n",
       "    <tr>\n",
       "      <th>0</th>\n",
       "      <td>2020-07-01</td>\n",
       "      <td>AD</td>\n",
       "      <td>0.17</td>\n",
       "      <td>Facebook Ads</td>\n",
       "      <td>7</td>\n",
       "    </tr>\n",
       "    <tr>\n",
       "      <th>1</th>\n",
       "      <td>2020-07-01</td>\n",
       "      <td>AE</td>\n",
       "      <td>59.30</td>\n",
       "      <td>Facebook Ads</td>\n",
       "      <td>7</td>\n",
       "    </tr>\n",
       "    <tr>\n",
       "      <th>2</th>\n",
       "      <td>2020-07-01</td>\n",
       "      <td>AF</td>\n",
       "      <td>1.23</td>\n",
       "      <td>Facebook Ads</td>\n",
       "      <td>7</td>\n",
       "    </tr>\n",
       "    <tr>\n",
       "      <th>3</th>\n",
       "      <td>2020-07-01</td>\n",
       "      <td>AG</td>\n",
       "      <td>0.23</td>\n",
       "      <td>Facebook Ads</td>\n",
       "      <td>7</td>\n",
       "    </tr>\n",
       "    <tr>\n",
       "      <th>4</th>\n",
       "      <td>2020-07-01</td>\n",
       "      <td>AI</td>\n",
       "      <td>0.18</td>\n",
       "      <td>Facebook Ads</td>\n",
       "      <td>7</td>\n",
       "    </tr>\n",
       "    <tr>\n",
       "      <th>5</th>\n",
       "      <td>2020-07-01</td>\n",
       "      <td>AL</td>\n",
       "      <td>1.60</td>\n",
       "      <td>Facebook Ads</td>\n",
       "      <td>7</td>\n",
       "    </tr>\n",
       "    <tr>\n",
       "      <th>6</th>\n",
       "      <td>2020-07-01</td>\n",
       "      <td>AM</td>\n",
       "      <td>2.07</td>\n",
       "      <td>Facebook Ads</td>\n",
       "      <td>7</td>\n",
       "    </tr>\n",
       "    <tr>\n",
       "      <th>7</th>\n",
       "      <td>2020-07-01</td>\n",
       "      <td>AO</td>\n",
       "      <td>2.63</td>\n",
       "      <td>Facebook Ads</td>\n",
       "      <td>7</td>\n",
       "    </tr>\n",
       "    <tr>\n",
       "      <th>8</th>\n",
       "      <td>2020-07-01</td>\n",
       "      <td>AQ</td>\n",
       "      <td>0.01</td>\n",
       "      <td>Facebook Ads</td>\n",
       "      <td>7</td>\n",
       "    </tr>\n",
       "    <tr>\n",
       "      <th>9</th>\n",
       "      <td>2020-07-01</td>\n",
       "      <td>AR</td>\n",
       "      <td>6.73</td>\n",
       "      <td>Facebook Ads</td>\n",
       "      <td>7</td>\n",
       "    </tr>\n",
       "  </tbody>\n",
       "</table>\n",
       "</div>"
      ],
      "text/plain": [
       "        date country_code   cost  media_source  month\n",
       "0 2020-07-01           AD   0.17  Facebook Ads      7\n",
       "1 2020-07-01           AE  59.30  Facebook Ads      7\n",
       "2 2020-07-01           AF   1.23  Facebook Ads      7\n",
       "3 2020-07-01           AG   0.23  Facebook Ads      7\n",
       "4 2020-07-01           AI   0.18  Facebook Ads      7\n",
       "5 2020-07-01           AL   1.60  Facebook Ads      7\n",
       "6 2020-07-01           AM   2.07  Facebook Ads      7\n",
       "7 2020-07-01           AO   2.63  Facebook Ads      7\n",
       "8 2020-07-01           AQ   0.01  Facebook Ads      7\n",
       "9 2020-07-01           AR   6.73  Facebook Ads      7"
      ]
     },
     "execution_count": 8,
     "metadata": {},
     "output_type": "execute_result"
    }
   ],
   "source": [
    "dfm.head(10)"
   ]
  },
  {
   "cell_type": "code",
   "execution_count": 9,
   "metadata": {},
   "outputs": [
    {
     "data": {
      "text/html": [
       "<div>\n",
       "<style scoped>\n",
       "    .dataframe tbody tr th:only-of-type {\n",
       "        vertical-align: middle;\n",
       "    }\n",
       "\n",
       "    .dataframe tbody tr th {\n",
       "        vertical-align: top;\n",
       "    }\n",
       "\n",
       "    .dataframe thead th {\n",
       "        text-align: right;\n",
       "    }\n",
       "</style>\n",
       "<table border=\"1\" class=\"dataframe\">\n",
       "  <thead>\n",
       "    <tr style=\"text-align: right;\">\n",
       "      <th></th>\n",
       "      <th>column</th>\n",
       "      <th>data types</th>\n",
       "      <th>total values</th>\n",
       "      <th>unique values</th>\n",
       "      <th>null values</th>\n",
       "    </tr>\n",
       "  </thead>\n",
       "  <tbody>\n",
       "    <tr>\n",
       "      <th>0</th>\n",
       "      <td>date</td>\n",
       "      <td>datetime64[ns]</td>\n",
       "      <td>22039</td>\n",
       "      <td>92</td>\n",
       "      <td>0</td>\n",
       "    </tr>\n",
       "    <tr>\n",
       "      <th>1</th>\n",
       "      <td>country_code</td>\n",
       "      <td>object</td>\n",
       "      <td>21947</td>\n",
       "      <td>240</td>\n",
       "      <td>92</td>\n",
       "    </tr>\n",
       "    <tr>\n",
       "      <th>2</th>\n",
       "      <td>cost</td>\n",
       "      <td>float64</td>\n",
       "      <td>22039</td>\n",
       "      <td>4315</td>\n",
       "      <td>0</td>\n",
       "    </tr>\n",
       "    <tr>\n",
       "      <th>3</th>\n",
       "      <td>media_source</td>\n",
       "      <td>object</td>\n",
       "      <td>22039</td>\n",
       "      <td>3</td>\n",
       "      <td>0</td>\n",
       "    </tr>\n",
       "    <tr>\n",
       "      <th>4</th>\n",
       "      <td>month</td>\n",
       "      <td>int32</td>\n",
       "      <td>22039</td>\n",
       "      <td>3</td>\n",
       "      <td>0</td>\n",
       "    </tr>\n",
       "  </tbody>\n",
       "</table>\n",
       "</div>"
      ],
      "text/plain": [
       "         column      data types  total values  unique values  null values\n",
       "0          date  datetime64[ns]         22039             92            0\n",
       "1  country_code          object         21947            240           92\n",
       "2          cost         float64         22039           4315            0\n",
       "3  media_source          object         22039              3            0\n",
       "4         month           int32         22039              3            0"
      ]
     },
     "execution_count": 9,
     "metadata": {},
     "output_type": "execute_result"
    }
   ],
   "source": [
    "def check(dfm):\n",
    "    list = []\n",
    "    columns = dfm.columns\n",
    "    for col in columns:\n",
    "        data_types = dfm[col].dtypes\n",
    "        total_values = dfm[col].count()\n",
    "        unique_values = dfm[col].nunique()\n",
    "        null_values = dfm[col].isnull().sum()\n",
    "        list.append([col, data_types, total_values, unique_values, null_values])\n",
    "    df_check = pd.DataFrame(list)\n",
    "    df_check.columns = ['column', 'data types', 'total values', 'unique values', 'null values']\n",
    "    return df_check\n",
    "check(dfm)"
   ]
  },
  {
   "cell_type": "markdown",
   "metadata": {},
   "source": [
    "## Аналіз"
   ]
  },
  {
   "cell_type": "markdown",
   "metadata": {},
   "source": [
    "### Conversion Rate"
   ]
  },
  {
   "cell_type": "markdown",
   "metadata": {},
   "source": [
    "Згідно завдання 1.0, створюємо таблицю лише з підписками `tenwords_1w_9.99_offer` і сортуємо від меншого до більшого за *user_id, purchase_date*."
   ]
  },
  {
   "cell_type": "code",
   "execution_count": 10,
   "metadata": {},
   "outputs": [],
   "source": [
    "df_2nd_offer = df[df[\"product_id\"] == \"tenwords_1w_9.99_offer\"]\n",
    "df_2nd_offer = df_2nd_offer.sort_values(by=['user_id', 'purchase_date'])"
   ]
  },
  {
   "cell_type": "markdown",
   "metadata": {},
   "source": [
    "Перевіряємо правильність новостворенної таблиці за кількістю значень"
   ]
  },
  {
   "cell_type": "code",
   "execution_count": 11,
   "metadata": {},
   "outputs": [
    {
     "name": "stdout",
     "output_type": "stream",
     "text": [
      "43613\n",
      "43613\n"
     ]
    }
   ],
   "source": [
    "count = (df[\"product_id\"] == \"tenwords_1w_9.99_offer\").sum()\n",
    "count2 = (df_2nd_offer[\"product_id\"] == \"tenwords_1w_9.99_offer\").sum()\n",
    "print(count)\n",
    "print(count2)"
   ]
  },
  {
   "cell_type": "markdown",
   "metadata": {},
   "source": [
    "Перевіряємо типи даних, кількість унікальних та нульових значень"
   ]
  },
  {
   "cell_type": "code",
   "execution_count": 12,
   "metadata": {},
   "outputs": [
    {
     "data": {
      "text/html": [
       "<div>\n",
       "<style scoped>\n",
       "    .dataframe tbody tr th:only-of-type {\n",
       "        vertical-align: middle;\n",
       "    }\n",
       "\n",
       "    .dataframe tbody tr th {\n",
       "        vertical-align: top;\n",
       "    }\n",
       "\n",
       "    .dataframe thead th {\n",
       "        text-align: right;\n",
       "    }\n",
       "</style>\n",
       "<table border=\"1\" class=\"dataframe\">\n",
       "  <thead>\n",
       "    <tr style=\"text-align: right;\">\n",
       "      <th></th>\n",
       "      <th>column</th>\n",
       "      <th>data types</th>\n",
       "      <th>total values</th>\n",
       "      <th>unique values</th>\n",
       "      <th>null values</th>\n",
       "    </tr>\n",
       "  </thead>\n",
       "  <tbody>\n",
       "    <tr>\n",
       "      <th>0</th>\n",
       "      <td>user_id</td>\n",
       "      <td>int64</td>\n",
       "      <td>43613</td>\n",
       "      <td>18014</td>\n",
       "      <td>0</td>\n",
       "    </tr>\n",
       "    <tr>\n",
       "      <th>1</th>\n",
       "      <td>product_id</td>\n",
       "      <td>object</td>\n",
       "      <td>43613</td>\n",
       "      <td>1</td>\n",
       "      <td>0</td>\n",
       "    </tr>\n",
       "    <tr>\n",
       "      <th>2</th>\n",
       "      <td>refunded</td>\n",
       "      <td>bool</td>\n",
       "      <td>43613</td>\n",
       "      <td>2</td>\n",
       "      <td>0</td>\n",
       "    </tr>\n",
       "    <tr>\n",
       "      <th>3</th>\n",
       "      <td>purchase_date</td>\n",
       "      <td>datetime64[ns]</td>\n",
       "      <td>43613</td>\n",
       "      <td>92</td>\n",
       "      <td>0</td>\n",
       "    </tr>\n",
       "    <tr>\n",
       "      <th>4</th>\n",
       "      <td>country_code</td>\n",
       "      <td>object</td>\n",
       "      <td>43517</td>\n",
       "      <td>186</td>\n",
       "      <td>96</td>\n",
       "    </tr>\n",
       "    <tr>\n",
       "      <th>5</th>\n",
       "      <td>media_source</td>\n",
       "      <td>object</td>\n",
       "      <td>43613</td>\n",
       "      <td>4</td>\n",
       "      <td>0</td>\n",
       "    </tr>\n",
       "    <tr>\n",
       "      <th>6</th>\n",
       "      <td>month</td>\n",
       "      <td>int32</td>\n",
       "      <td>43613</td>\n",
       "      <td>3</td>\n",
       "      <td>0</td>\n",
       "    </tr>\n",
       "  </tbody>\n",
       "</table>\n",
       "</div>"
      ],
      "text/plain": [
       "          column      data types  total values  unique values  null values\n",
       "0        user_id           int64         43613          18014            0\n",
       "1     product_id          object         43613              1            0\n",
       "2       refunded            bool         43613              2            0\n",
       "3  purchase_date  datetime64[ns]         43613             92            0\n",
       "4   country_code          object         43517            186           96\n",
       "5   media_source          object         43613              4            0\n",
       "6          month           int32         43613              3            0"
      ]
     },
     "execution_count": 12,
     "metadata": {},
     "output_type": "execute_result"
    }
   ],
   "source": [
    "check(df_2nd_offer)"
   ]
  },
  {
   "cell_type": "markdown",
   "metadata": {},
   "source": [
    "Додаємо дату першого платежу, де:\n",
    "- groupby(\"user_id\") групує дані по користувачах.\n",
    "- transform(\"min\") застосовує функцію мінімуму до кожної групи, повертаючи серію, де для кожного користувача буде зазначено його перше значення (мінімальна дата покупки)."
   ]
  },
  {
   "cell_type": "code",
   "execution_count": 13,
   "metadata": {},
   "outputs": [
    {
     "data": {
      "text/html": [
       "<div>\n",
       "<style scoped>\n",
       "    .dataframe tbody tr th:only-of-type {\n",
       "        vertical-align: middle;\n",
       "    }\n",
       "\n",
       "    .dataframe tbody tr th {\n",
       "        vertical-align: top;\n",
       "    }\n",
       "\n",
       "    .dataframe thead th {\n",
       "        text-align: right;\n",
       "    }\n",
       "</style>\n",
       "<table border=\"1\" class=\"dataframe\">\n",
       "  <thead>\n",
       "    <tr style=\"text-align: right;\">\n",
       "      <th></th>\n",
       "      <th>user_id</th>\n",
       "      <th>product_id</th>\n",
       "      <th>refunded</th>\n",
       "      <th>purchase_date</th>\n",
       "      <th>country_code</th>\n",
       "      <th>media_source</th>\n",
       "      <th>month</th>\n",
       "      <th>first_payment_date</th>\n",
       "    </tr>\n",
       "  </thead>\n",
       "  <tbody>\n",
       "    <tr>\n",
       "      <th>6970</th>\n",
       "      <td>27637</td>\n",
       "      <td>tenwords_1w_9.99_offer</td>\n",
       "      <td>False</td>\n",
       "      <td>2020-07-05</td>\n",
       "      <td>PL</td>\n",
       "      <td>Facebook Ads</td>\n",
       "      <td>7</td>\n",
       "      <td>2020-07-05</td>\n",
       "    </tr>\n",
       "    <tr>\n",
       "      <th>38650</th>\n",
       "      <td>31549</td>\n",
       "      <td>tenwords_1w_9.99_offer</td>\n",
       "      <td>False</td>\n",
       "      <td>2020-08-25</td>\n",
       "      <td>CO</td>\n",
       "      <td>Facebook Ads</td>\n",
       "      <td>8</td>\n",
       "      <td>2020-08-25</td>\n",
       "    </tr>\n",
       "    <tr>\n",
       "      <th>61235</th>\n",
       "      <td>31549</td>\n",
       "      <td>tenwords_1w_9.99_offer</td>\n",
       "      <td>False</td>\n",
       "      <td>2020-08-25</td>\n",
       "      <td>CO</td>\n",
       "      <td>Facebook Ads</td>\n",
       "      <td>8</td>\n",
       "      <td>2020-08-25</td>\n",
       "    </tr>\n",
       "    <tr>\n",
       "      <th>47316</th>\n",
       "      <td>31921</td>\n",
       "      <td>tenwords_1w_9.99_offer</td>\n",
       "      <td>False</td>\n",
       "      <td>2020-08-25</td>\n",
       "      <td>FR</td>\n",
       "      <td>Facebook Ads</td>\n",
       "      <td>8</td>\n",
       "      <td>2020-08-25</td>\n",
       "    </tr>\n",
       "    <tr>\n",
       "      <th>31438</th>\n",
       "      <td>34244</td>\n",
       "      <td>tenwords_1w_9.99_offer</td>\n",
       "      <td>False</td>\n",
       "      <td>2020-09-07</td>\n",
       "      <td>NL</td>\n",
       "      <td>Facebook Ads</td>\n",
       "      <td>9</td>\n",
       "      <td>2020-09-07</td>\n",
       "    </tr>\n",
       "  </tbody>\n",
       "</table>\n",
       "</div>"
      ],
      "text/plain": [
       "       user_id              product_id  refunded purchase_date country_code  \\\n",
       "6970     27637  tenwords_1w_9.99_offer     False    2020-07-05           PL   \n",
       "38650    31549  tenwords_1w_9.99_offer     False    2020-08-25           CO   \n",
       "61235    31549  tenwords_1w_9.99_offer     False    2020-08-25           CO   \n",
       "47316    31921  tenwords_1w_9.99_offer     False    2020-08-25           FR   \n",
       "31438    34244  tenwords_1w_9.99_offer     False    2020-09-07           NL   \n",
       "\n",
       "       media_source  month first_payment_date  \n",
       "6970   Facebook Ads      7         2020-07-05  \n",
       "38650  Facebook Ads      8         2020-08-25  \n",
       "61235  Facebook Ads      8         2020-08-25  \n",
       "47316  Facebook Ads      8         2020-08-25  \n",
       "31438  Facebook Ads      9         2020-09-07  "
      ]
     },
     "execution_count": 13,
     "metadata": {},
     "output_type": "execute_result"
    }
   ],
   "source": [
    "df_2nd_offer[\"first_payment_date\"] = df_2nd_offer.groupby(\"user_id\")[\"purchase_date\"].transform(\"min\")\n",
    "df_2nd_offer.head()"
   ]
  },
  {
   "cell_type": "markdown",
   "metadata": {},
   "source": [
    "Додаємо для кожного користувача (перебір по колонці user_id в df_2nd_offer):\n",
    "- Якщо поточний user_id дорівнює попередньому (тобто це той самий користувач, що й раніше), то додається значення 9.99 до списку cost.\n",
    "- Якщо user_id змінюється (це новий користувач), додається значення 0.50.\n",
    "\n",
    "Таким чином, кожному користувачу присвоюється 0.50 USD, якщо це перша оплата і 9.99 USD за наступні."
   ]
  },
  {
   "cell_type": "code",
   "execution_count": 14,
   "metadata": {},
   "outputs": [
    {
     "data": {
      "text/html": [
       "<div>\n",
       "<style scoped>\n",
       "    .dataframe tbody tr th:only-of-type {\n",
       "        vertical-align: middle;\n",
       "    }\n",
       "\n",
       "    .dataframe tbody tr th {\n",
       "        vertical-align: top;\n",
       "    }\n",
       "\n",
       "    .dataframe thead th {\n",
       "        text-align: right;\n",
       "    }\n",
       "</style>\n",
       "<table border=\"1\" class=\"dataframe\">\n",
       "  <thead>\n",
       "    <tr style=\"text-align: right;\">\n",
       "      <th></th>\n",
       "      <th>user_id</th>\n",
       "      <th>product_id</th>\n",
       "      <th>refunded</th>\n",
       "      <th>purchase_date</th>\n",
       "      <th>country_code</th>\n",
       "      <th>media_source</th>\n",
       "      <th>month</th>\n",
       "      <th>first_payment_date</th>\n",
       "      <th>revenue, USD</th>\n",
       "    </tr>\n",
       "  </thead>\n",
       "  <tbody>\n",
       "    <tr>\n",
       "      <th>6970</th>\n",
       "      <td>27637</td>\n",
       "      <td>tenwords_1w_9.99_offer</td>\n",
       "      <td>False</td>\n",
       "      <td>2020-07-05</td>\n",
       "      <td>PL</td>\n",
       "      <td>Facebook Ads</td>\n",
       "      <td>7</td>\n",
       "      <td>2020-07-05</td>\n",
       "      <td>0.50</td>\n",
       "    </tr>\n",
       "    <tr>\n",
       "      <th>38650</th>\n",
       "      <td>31549</td>\n",
       "      <td>tenwords_1w_9.99_offer</td>\n",
       "      <td>False</td>\n",
       "      <td>2020-08-25</td>\n",
       "      <td>CO</td>\n",
       "      <td>Facebook Ads</td>\n",
       "      <td>8</td>\n",
       "      <td>2020-08-25</td>\n",
       "      <td>0.50</td>\n",
       "    </tr>\n",
       "    <tr>\n",
       "      <th>61235</th>\n",
       "      <td>31549</td>\n",
       "      <td>tenwords_1w_9.99_offer</td>\n",
       "      <td>False</td>\n",
       "      <td>2020-08-25</td>\n",
       "      <td>CO</td>\n",
       "      <td>Facebook Ads</td>\n",
       "      <td>8</td>\n",
       "      <td>2020-08-25</td>\n",
       "      <td>9.99</td>\n",
       "    </tr>\n",
       "    <tr>\n",
       "      <th>47316</th>\n",
       "      <td>31921</td>\n",
       "      <td>tenwords_1w_9.99_offer</td>\n",
       "      <td>False</td>\n",
       "      <td>2020-08-25</td>\n",
       "      <td>FR</td>\n",
       "      <td>Facebook Ads</td>\n",
       "      <td>8</td>\n",
       "      <td>2020-08-25</td>\n",
       "      <td>0.50</td>\n",
       "    </tr>\n",
       "    <tr>\n",
       "      <th>31438</th>\n",
       "      <td>34244</td>\n",
       "      <td>tenwords_1w_9.99_offer</td>\n",
       "      <td>False</td>\n",
       "      <td>2020-09-07</td>\n",
       "      <td>NL</td>\n",
       "      <td>Facebook Ads</td>\n",
       "      <td>9</td>\n",
       "      <td>2020-09-07</td>\n",
       "      <td>0.50</td>\n",
       "    </tr>\n",
       "  </tbody>\n",
       "</table>\n",
       "</div>"
      ],
      "text/plain": [
       "       user_id              product_id  refunded purchase_date country_code  \\\n",
       "6970     27637  tenwords_1w_9.99_offer     False    2020-07-05           PL   \n",
       "38650    31549  tenwords_1w_9.99_offer     False    2020-08-25           CO   \n",
       "61235    31549  tenwords_1w_9.99_offer     False    2020-08-25           CO   \n",
       "47316    31921  tenwords_1w_9.99_offer     False    2020-08-25           FR   \n",
       "31438    34244  tenwords_1w_9.99_offer     False    2020-09-07           NL   \n",
       "\n",
       "       media_source  month first_payment_date  revenue, USD  \n",
       "6970   Facebook Ads      7         2020-07-05          0.50  \n",
       "38650  Facebook Ads      8         2020-08-25          0.50  \n",
       "61235  Facebook Ads      8         2020-08-25          9.99  \n",
       "47316  Facebook Ads      8         2020-08-25          0.50  \n",
       "31438  Facebook Ads      9         2020-09-07          0.50  "
      ]
     },
     "execution_count": 14,
     "metadata": {},
     "output_type": "execute_result"
    }
   ],
   "source": [
    "cost = []\n",
    "previous_user_id = 0\n",
    "\n",
    "for user_id in df_2nd_offer[\"user_id\"]:\n",
    "    if user_id == previous_user_id:\n",
    "        cost.append(9.99)\n",
    "    else:\n",
    "        cost.append(0.50)\n",
    "    previous_user_id = user_id\n",
    "\n",
    "df_2nd_offer[\"revenue, USD\"] = cost\n",
    "\n",
    "df_2nd_offer.head()"
   ]
  },
  {
   "cell_type": "markdown",
   "metadata": {},
   "source": [
    "Функція `second_payment_check` перевіряє, чи є у користувача більше ніж один платіж. Таким чином, у колонці `second_payment` для кожного користувача позначається, чи є у нього другий платіж (True, якщо більше одного платежу, і False, якщо лише один)."
   ]
  },
  {
   "cell_type": "code",
   "execution_count": 15,
   "metadata": {},
   "outputs": [
    {
     "data": {
      "text/html": [
       "<div>\n",
       "<style scoped>\n",
       "    .dataframe tbody tr th:only-of-type {\n",
       "        vertical-align: middle;\n",
       "    }\n",
       "\n",
       "    .dataframe tbody tr th {\n",
       "        vertical-align: top;\n",
       "    }\n",
       "\n",
       "    .dataframe thead th {\n",
       "        text-align: right;\n",
       "    }\n",
       "</style>\n",
       "<table border=\"1\" class=\"dataframe\">\n",
       "  <thead>\n",
       "    <tr style=\"text-align: right;\">\n",
       "      <th></th>\n",
       "      <th>user_id</th>\n",
       "      <th>product_id</th>\n",
       "      <th>refunded</th>\n",
       "      <th>purchase_date</th>\n",
       "      <th>country_code</th>\n",
       "      <th>media_source</th>\n",
       "      <th>month</th>\n",
       "      <th>first_payment_date</th>\n",
       "      <th>revenue, USD</th>\n",
       "      <th>second_payment</th>\n",
       "    </tr>\n",
       "  </thead>\n",
       "  <tbody>\n",
       "    <tr>\n",
       "      <th>6970</th>\n",
       "      <td>27637</td>\n",
       "      <td>tenwords_1w_9.99_offer</td>\n",
       "      <td>False</td>\n",
       "      <td>2020-07-05</td>\n",
       "      <td>PL</td>\n",
       "      <td>Facebook Ads</td>\n",
       "      <td>7</td>\n",
       "      <td>2020-07-05</td>\n",
       "      <td>0.50</td>\n",
       "      <td>False</td>\n",
       "    </tr>\n",
       "    <tr>\n",
       "      <th>38650</th>\n",
       "      <td>31549</td>\n",
       "      <td>tenwords_1w_9.99_offer</td>\n",
       "      <td>False</td>\n",
       "      <td>2020-08-25</td>\n",
       "      <td>CO</td>\n",
       "      <td>Facebook Ads</td>\n",
       "      <td>8</td>\n",
       "      <td>2020-08-25</td>\n",
       "      <td>0.50</td>\n",
       "      <td>True</td>\n",
       "    </tr>\n",
       "    <tr>\n",
       "      <th>61235</th>\n",
       "      <td>31549</td>\n",
       "      <td>tenwords_1w_9.99_offer</td>\n",
       "      <td>False</td>\n",
       "      <td>2020-08-25</td>\n",
       "      <td>CO</td>\n",
       "      <td>Facebook Ads</td>\n",
       "      <td>8</td>\n",
       "      <td>2020-08-25</td>\n",
       "      <td>9.99</td>\n",
       "      <td>True</td>\n",
       "    </tr>\n",
       "    <tr>\n",
       "      <th>47316</th>\n",
       "      <td>31921</td>\n",
       "      <td>tenwords_1w_9.99_offer</td>\n",
       "      <td>False</td>\n",
       "      <td>2020-08-25</td>\n",
       "      <td>FR</td>\n",
       "      <td>Facebook Ads</td>\n",
       "      <td>8</td>\n",
       "      <td>2020-08-25</td>\n",
       "      <td>0.50</td>\n",
       "      <td>False</td>\n",
       "    </tr>\n",
       "    <tr>\n",
       "      <th>31438</th>\n",
       "      <td>34244</td>\n",
       "      <td>tenwords_1w_9.99_offer</td>\n",
       "      <td>False</td>\n",
       "      <td>2020-09-07</td>\n",
       "      <td>NL</td>\n",
       "      <td>Facebook Ads</td>\n",
       "      <td>9</td>\n",
       "      <td>2020-09-07</td>\n",
       "      <td>0.50</td>\n",
       "      <td>False</td>\n",
       "    </tr>\n",
       "  </tbody>\n",
       "</table>\n",
       "</div>"
      ],
      "text/plain": [
       "       user_id              product_id  refunded purchase_date country_code  \\\n",
       "6970     27637  tenwords_1w_9.99_offer     False    2020-07-05           PL   \n",
       "38650    31549  tenwords_1w_9.99_offer     False    2020-08-25           CO   \n",
       "61235    31549  tenwords_1w_9.99_offer     False    2020-08-25           CO   \n",
       "47316    31921  tenwords_1w_9.99_offer     False    2020-08-25           FR   \n",
       "31438    34244  tenwords_1w_9.99_offer     False    2020-09-07           NL   \n",
       "\n",
       "       media_source  month first_payment_date  revenue, USD second_payment  \n",
       "6970   Facebook Ads      7         2020-07-05          0.50          False  \n",
       "38650  Facebook Ads      8         2020-08-25          0.50           True  \n",
       "61235  Facebook Ads      8         2020-08-25          9.99           True  \n",
       "47316  Facebook Ads      8         2020-08-25          0.50          False  \n",
       "31438  Facebook Ads      9         2020-09-07          0.50          False  "
      ]
     },
     "execution_count": 15,
     "metadata": {},
     "output_type": "execute_result"
    }
   ],
   "source": [
    "def second_payment_check(group):\n",
    "    if len(group) > 1:\n",
    "        return [True] * len(group)\n",
    "    return [False] * len(group)\n",
    "\n",
    "grouped_results = df_2nd_offer.groupby(\"user_id\").apply(second_payment_check)\n",
    "df_2nd_offer[\"second_payment\"] = grouped_results.explode().values\n",
    "\n",
    "df_2nd_offer.head()"
   ]
  },
  {
   "cell_type": "markdown",
   "metadata": {},
   "source": [
    "**Conversion Rate = Second Payment Users / First Payment Users**"
   ]
  },
  {
   "cell_type": "markdown",
   "metadata": {},
   "source": [
    "- Кількість користувачів з першим платежем, це всі унікальні значення user_id з product_id, що дорівнює tenwords_1w_9.99_offer.\n",
    "- Кількість користувачів з другим платежем, це всі унікальні значення user_id, у яких більше одного платежу.\n",
    "- Згідно розрахунку **Коефіціент конверсії** складає `42.12%`"
   ]
  },
  {
   "cell_type": "code",
   "execution_count": 16,
   "metadata": {},
   "outputs": [
    {
     "name": "stdout",
     "output_type": "stream",
     "text": [
      "Кількість користувачів з першим платежем: 18014\n",
      "Кількість користувачів з другим платежем: 7587\n",
      "Середній конверт у другий платіж: 42.12%\n"
     ]
    }
   ],
   "source": [
    "first_payment_users = df_2nd_offer[\"user_id\"].nunique()\n",
    "second_payment_users = df_2nd_offer[df_2nd_offer[\"second_payment\"] == True][\"user_id\"].nunique()\n",
    "conversion_rate = second_payment_users / first_payment_users\n",
    "\n",
    "print(f\"Кількість користувачів з першим платежем: {first_payment_users}\")\n",
    "print(f\"Кількість користувачів з другим платежем: {second_payment_users}\")\n",
    "print(f\"Середній конверт у другий платіж: {conversion_rate:.2%}\")"
   ]
  },
  {
   "cell_type": "markdown",
   "metadata": {},
   "source": [
    "### LTV (Lifetime Value)"
   ]
  },
  {
   "cell_type": "markdown",
   "metadata": {},
   "source": [
    "**Lifetime Value = (Average Revenue Per User * Time)**\n",
    "\n",
    "- ARPU (Average Revenue Per User) - середній дохід на одного клієнта\n",
    "- Time - тривалість життєвого циклу клієнта"
   ]
  },
  {
   "cell_type": "markdown",
   "metadata": {},
   "source": [
    "Фільтруємо на прибуток без повернень"
   ]
  },
  {
   "cell_type": "code",
   "execution_count": 17,
   "metadata": {},
   "outputs": [],
   "source": [
    "df_valid_payments = df_2nd_offer[df_2nd_offer[\"refunded\"] == False]"
   ]
  },
  {
   "cell_type": "markdown",
   "metadata": {},
   "source": [
    "Рахуємо Загальний дохід, Кількість унікальних користувачів та Обчислюємо ARPU. \n",
    "\n",
    "З розрахунку зваженого середнього маємо `ARPU: 14.39 USD`"
   ]
  },
  {
   "cell_type": "code",
   "execution_count": 18,
   "metadata": {},
   "outputs": [
    {
     "name": "stdout",
     "output_type": "stream",
     "text": [
      "total_revenue: 251924.06 USD\n",
      "unique_users: 17510\n",
      "ARPU: 14.39 USD\n"
     ]
    }
   ],
   "source": [
    "total_revenue = df_valid_payments[\"revenue, USD\"].sum()\n",
    "unique_users = df_valid_payments[\"user_id\"].nunique()\n",
    "ARPU = total_revenue / unique_users\n",
    "\n",
    "print(f\"total_revenue: {total_revenue:.2f} USD\")\n",
    "print(f\"unique_users: {unique_users}\")\n",
    "print(f\"ARPU: {ARPU:.2f} USD\")"
   ]
  },
  {
   "cell_type": "code",
   "execution_count": 19,
   "metadata": {},
   "outputs": [
    {
     "data": {
      "text/html": [
       "<div>\n",
       "<style scoped>\n",
       "    .dataframe tbody tr th:only-of-type {\n",
       "        vertical-align: middle;\n",
       "    }\n",
       "\n",
       "    .dataframe tbody tr th {\n",
       "        vertical-align: top;\n",
       "    }\n",
       "\n",
       "    .dataframe thead th {\n",
       "        text-align: right;\n",
       "    }\n",
       "</style>\n",
       "<table border=\"1\" class=\"dataframe\">\n",
       "  <thead>\n",
       "    <tr style=\"text-align: right;\">\n",
       "      <th></th>\n",
       "      <th>revenue, USD</th>\n",
       "      <th>user_id</th>\n",
       "      <th>revenue_per_user</th>\n",
       "    </tr>\n",
       "    <tr>\n",
       "      <th>month</th>\n",
       "      <th></th>\n",
       "      <th></th>\n",
       "      <th></th>\n",
       "    </tr>\n",
       "  </thead>\n",
       "  <tbody>\n",
       "    <tr>\n",
       "      <th>7</th>\n",
       "      <td>37534.54</td>\n",
       "      <td>6225.0</td>\n",
       "      <td>6.029645</td>\n",
       "    </tr>\n",
       "    <tr>\n",
       "      <th>8</th>\n",
       "      <td>93260.47</td>\n",
       "      <td>7327.0</td>\n",
       "      <td>12.728329</td>\n",
       "    </tr>\n",
       "    <tr>\n",
       "      <th>9</th>\n",
       "      <td>121129.05</td>\n",
       "      <td>7994.0</td>\n",
       "      <td>15.152496</td>\n",
       "    </tr>\n",
       "    <tr>\n",
       "      <th>Total</th>\n",
       "      <td>251924.06</td>\n",
       "      <td>17510.0</td>\n",
       "      <td>14.387439</td>\n",
       "    </tr>\n",
       "  </tbody>\n",
       "</table>\n",
       "</div>"
      ],
      "text/plain": [
       "       revenue, USD  user_id  revenue_per_user\n",
       "month                                         \n",
       "7          37534.54   6225.0          6.029645\n",
       "8          93260.47   7327.0         12.728329\n",
       "9         121129.05   7994.0         15.152496\n",
       "Total     251924.06  17510.0         14.387439"
      ]
     },
     "execution_count": 19,
     "metadata": {},
     "output_type": "execute_result"
    }
   ],
   "source": [
    "df_2nd_offer_ltv = df_valid_payments.pivot_table(\n",
    "    index=\"month\",\n",
    "    values=[\"user_id\", \"revenue, USD\"],\n",
    "    aggfunc={\n",
    "        \"user_id\": pd.Series.nunique,\n",
    "        \"revenue, USD\": \"sum\",\n",
    "    },\n",
    ")\n",
    "\n",
    "df_2nd_offer_ltv[\"revenue_per_user\"] = (\n",
    "    df_2nd_offer_ltv[\"revenue, USD\"] / df_2nd_offer_ltv[\"user_id\"]\n",
    ")\n",
    "\n",
    "df_2nd_offer_ltv.loc[\"Total\"] = df_2nd_offer_ltv.sum(numeric_only=True)\n",
    "df_2nd_offer_ltv.loc[\"Total\", \"user_id\"] = df_valid_payments[\"user_id\"].nunique()\n",
    "\n",
    "df_2nd_offer_ltv.loc[\"Total\", \"revenue_per_user\"] = (\n",
    "    df_2nd_offer_ltv.loc[\"Total\", \"revenue, USD\"]\n",
    "    / df_2nd_offer_ltv.loc[\"Total\", \"user_id\"]\n",
    ")\n",
    "\n",
    "df_2nd_offer_ltv"
   ]
  },
  {
   "cell_type": "markdown",
   "metadata": {},
   "source": [
    "ARPU множимо на пів року життя користувача і знаходимо `LTV: 86.32 USD`"
   ]
  },
  {
   "cell_type": "code",
   "execution_count": 20,
   "metadata": {},
   "outputs": [
    {
     "name": "stdout",
     "output_type": "stream",
     "text": [
      "Прогнозований LTV за 6 місяців: 86.32 USD\n"
     ]
    }
   ],
   "source": [
    "LTV = ARPU * 6\n",
    "\n",
    "print(f\"Прогнозований LTV за 6 місяців: {LTV:.2f} USD\")"
   ]
  },
  {
   "cell_type": "markdown",
   "metadata": {},
   "source": [
    "### ROMI (Return on Marketing Investment)"
   ]
  },
  {
   "cell_type": "markdown",
   "metadata": {},
   "source": [
    "**ROMI = ((Total Revenue - Total Marketing Cost) / Total Marketing Cost) * 100**"
   ]
  },
  {
   "cell_type": "code",
   "execution_count": 21,
   "metadata": {},
   "outputs": [
    {
     "data": {
      "text/html": [
       "<div>\n",
       "<style scoped>\n",
       "    .dataframe tbody tr th:only-of-type {\n",
       "        vertical-align: middle;\n",
       "    }\n",
       "\n",
       "    .dataframe tbody tr th {\n",
       "        vertical-align: top;\n",
       "    }\n",
       "\n",
       "    .dataframe thead th {\n",
       "        text-align: right;\n",
       "    }\n",
       "</style>\n",
       "<table border=\"1\" class=\"dataframe\">\n",
       "  <thead>\n",
       "    <tr style=\"text-align: right;\">\n",
       "      <th></th>\n",
       "      <th>date</th>\n",
       "      <th>country_code</th>\n",
       "      <th>cost</th>\n",
       "      <th>media_source</th>\n",
       "      <th>month</th>\n",
       "    </tr>\n",
       "  </thead>\n",
       "  <tbody>\n",
       "    <tr>\n",
       "      <th>0</th>\n",
       "      <td>2020-07-01</td>\n",
       "      <td>AD</td>\n",
       "      <td>0.17</td>\n",
       "      <td>Facebook Ads</td>\n",
       "      <td>7</td>\n",
       "    </tr>\n",
       "    <tr>\n",
       "      <th>1</th>\n",
       "      <td>2020-07-01</td>\n",
       "      <td>AE</td>\n",
       "      <td>59.30</td>\n",
       "      <td>Facebook Ads</td>\n",
       "      <td>7</td>\n",
       "    </tr>\n",
       "    <tr>\n",
       "      <th>2</th>\n",
       "      <td>2020-07-01</td>\n",
       "      <td>AF</td>\n",
       "      <td>1.23</td>\n",
       "      <td>Facebook Ads</td>\n",
       "      <td>7</td>\n",
       "    </tr>\n",
       "    <tr>\n",
       "      <th>3</th>\n",
       "      <td>2020-07-01</td>\n",
       "      <td>AG</td>\n",
       "      <td>0.23</td>\n",
       "      <td>Facebook Ads</td>\n",
       "      <td>7</td>\n",
       "    </tr>\n",
       "    <tr>\n",
       "      <th>4</th>\n",
       "      <td>2020-07-01</td>\n",
       "      <td>AI</td>\n",
       "      <td>0.18</td>\n",
       "      <td>Facebook Ads</td>\n",
       "      <td>7</td>\n",
       "    </tr>\n",
       "  </tbody>\n",
       "</table>\n",
       "</div>"
      ],
      "text/plain": [
       "        date country_code   cost  media_source  month\n",
       "0 2020-07-01           AD   0.17  Facebook Ads      7\n",
       "1 2020-07-01           AE  59.30  Facebook Ads      7\n",
       "2 2020-07-01           AF   1.23  Facebook Ads      7\n",
       "3 2020-07-01           AG   0.23  Facebook Ads      7\n",
       "4 2020-07-01           AI   0.18  Facebook Ads      7"
      ]
     },
     "execution_count": 21,
     "metadata": {},
     "output_type": "execute_result"
    }
   ],
   "source": [
    "dfm.head()"
   ]
  },
  {
   "cell_type": "markdown",
   "metadata": {},
   "source": [
    "Відображаємо загальний дохід, який попередньо був розрахований. \n",
    "\n",
    "Також розраховуємо Загальні маркетингові витрати і `ROMI`, який становить `-48.38%`"
   ]
  },
  {
   "cell_type": "code",
   "execution_count": 22,
   "metadata": {},
   "outputs": [
    {
     "name": "stdout",
     "output_type": "stream",
     "text": [
      "Загальний дохід: 251924.06 USD\n",
      "Загальні маркетингові витрати: 488015.90 USD\n",
      "ROMI: -48.38%\n"
     ]
    }
   ],
   "source": [
    "total_marketing_cost = dfm[\"cost\"].sum()\n",
    "ROMI = ((total_revenue - total_marketing_cost)/total_marketing_cost)*100\n",
    "\n",
    "print(f\"Загальний дохід: {total_revenue:.2f} USD\")\n",
    "print(f\"Загальні маркетингові витрати: {total_marketing_cost:.2f} USD\")\n",
    "print(f\"ROMI: {ROMI:.2f}%\")"
   ]
  },
  {
   "cell_type": "code",
   "execution_count": 23,
   "metadata": {},
   "outputs": [
    {
     "data": {
      "text/html": [
       "<div>\n",
       "<style scoped>\n",
       "    .dataframe tbody tr th:only-of-type {\n",
       "        vertical-align: middle;\n",
       "    }\n",
       "\n",
       "    .dataframe tbody tr th {\n",
       "        vertical-align: top;\n",
       "    }\n",
       "\n",
       "    .dataframe thead th {\n",
       "        text-align: right;\n",
       "    }\n",
       "</style>\n",
       "<table border=\"1\" class=\"dataframe\">\n",
       "  <thead>\n",
       "    <tr style=\"text-align: right;\">\n",
       "      <th>month</th>\n",
       "      <th>7</th>\n",
       "      <th>8</th>\n",
       "      <th>9</th>\n",
       "    </tr>\n",
       "    <tr>\n",
       "      <th>media_source</th>\n",
       "      <th></th>\n",
       "      <th></th>\n",
       "      <th></th>\n",
       "    </tr>\n",
       "  </thead>\n",
       "  <tbody>\n",
       "    <tr>\n",
       "      <th>ByteDance</th>\n",
       "      <td>162.24</td>\n",
       "      <td>9181.14</td>\n",
       "      <td>15533.90</td>\n",
       "    </tr>\n",
       "    <tr>\n",
       "      <th>Facebook Ads</th>\n",
       "      <td>158430.68</td>\n",
       "      <td>149170.79</td>\n",
       "      <td>108283.62</td>\n",
       "    </tr>\n",
       "    <tr>\n",
       "      <th>Google Ads</th>\n",
       "      <td>1190.19</td>\n",
       "      <td>9026.82</td>\n",
       "      <td>37036.52</td>\n",
       "    </tr>\n",
       "  </tbody>\n",
       "</table>\n",
       "</div>"
      ],
      "text/plain": [
       "month                 7          8          9\n",
       "media_source                                 \n",
       "ByteDance        162.24    9181.14   15533.90\n",
       "Facebook Ads  158430.68  149170.79  108283.62\n",
       "Google Ads      1190.19    9026.82   37036.52"
      ]
     },
     "execution_count": 23,
     "metadata": {},
     "output_type": "execute_result"
    }
   ],
   "source": [
    "dfm_expbysource = dfm.pivot_table(index='media_source', columns='month', values='cost', aggfunc='sum')\n",
    "dfm_expbysource"
   ]
  },
  {
   "cell_type": "code",
   "execution_count": 24,
   "metadata": {},
   "outputs": [
    {
     "data": {
      "text/html": [
       "<div>\n",
       "<style scoped>\n",
       "    .dataframe tbody tr th:only-of-type {\n",
       "        vertical-align: middle;\n",
       "    }\n",
       "\n",
       "    .dataframe tbody tr th {\n",
       "        vertical-align: top;\n",
       "    }\n",
       "\n",
       "    .dataframe thead th {\n",
       "        text-align: right;\n",
       "    }\n",
       "</style>\n",
       "<table border=\"1\" class=\"dataframe\">\n",
       "  <thead>\n",
       "    <tr style=\"text-align: right;\">\n",
       "      <th></th>\n",
       "      <th>cost</th>\n",
       "    </tr>\n",
       "    <tr>\n",
       "      <th>month</th>\n",
       "      <th></th>\n",
       "    </tr>\n",
       "  </thead>\n",
       "  <tbody>\n",
       "    <tr>\n",
       "      <th>7</th>\n",
       "      <td>159783.11</td>\n",
       "    </tr>\n",
       "    <tr>\n",
       "      <th>8</th>\n",
       "      <td>167378.75</td>\n",
       "    </tr>\n",
       "    <tr>\n",
       "      <th>9</th>\n",
       "      <td>160854.04</td>\n",
       "    </tr>\n",
       "  </tbody>\n",
       "</table>\n",
       "</div>"
      ],
      "text/plain": [
       "            cost\n",
       "month           \n",
       "7      159783.11\n",
       "8      167378.75\n",
       "9      160854.04"
      ]
     },
     "execution_count": 24,
     "metadata": {},
     "output_type": "execute_result"
    }
   ],
   "source": [
    "dfm_expbymonth = dfm.pivot_table(index='month', values='cost', aggfunc='sum')\n",
    "dfm_expbymonth"
   ]
  },
  {
   "cell_type": "code",
   "execution_count": 25,
   "metadata": {},
   "outputs": [
    {
     "data": {
      "text/html": [
       "<div>\n",
       "<style scoped>\n",
       "    .dataframe tbody tr th:only-of-type {\n",
       "        vertical-align: middle;\n",
       "    }\n",
       "\n",
       "    .dataframe tbody tr th {\n",
       "        vertical-align: top;\n",
       "    }\n",
       "\n",
       "    .dataframe thead th {\n",
       "        text-align: right;\n",
       "    }\n",
       "</style>\n",
       "<table border=\"1\" class=\"dataframe\">\n",
       "  <thead>\n",
       "    <tr style=\"text-align: right;\">\n",
       "      <th></th>\n",
       "      <th>cost</th>\n",
       "    </tr>\n",
       "    <tr>\n",
       "      <th>media_source</th>\n",
       "      <th></th>\n",
       "    </tr>\n",
       "  </thead>\n",
       "  <tbody>\n",
       "    <tr>\n",
       "      <th>ByteDance</th>\n",
       "      <td>24877.28</td>\n",
       "    </tr>\n",
       "    <tr>\n",
       "      <th>Facebook Ads</th>\n",
       "      <td>415885.09</td>\n",
       "    </tr>\n",
       "    <tr>\n",
       "      <th>Google Ads</th>\n",
       "      <td>47253.53</td>\n",
       "    </tr>\n",
       "  </tbody>\n",
       "</table>\n",
       "</div>"
      ],
      "text/plain": [
       "                   cost\n",
       "media_source           \n",
       "ByteDance      24877.28\n",
       "Facebook Ads  415885.09\n",
       "Google Ads     47253.53"
      ]
     },
     "execution_count": 25,
     "metadata": {},
     "output_type": "execute_result"
    }
   ],
   "source": [
    "dfm_expbysource1 = dfm.pivot_table(index='media_source', values='cost', aggfunc='sum')\n",
    "dfm_expbysource1"
   ]
  },
  {
   "cell_type": "markdown",
   "metadata": {},
   "source": [
    "## Висновок"
   ]
  },
  {
   "cell_type": "markdown",
   "metadata": {},
   "source": [
    "У цьому дослідженні було проведено аналіз конверсії користувачів з тріального періоду в платну підписку, спрогнозовано значення LTV (Lifetime Value) на основі історичних даних та розраховано значення ROMI. \n",
    "\n",
    "Основна увага була зосереджена на підписці tenwords_1w_9.99_offer, що дозволило зробити точніші розрахунки ключових показників."
   ]
  },
  {
   "cell_type": "markdown",
   "metadata": {},
   "source": [
    "- Завдання 1.0. Розрахунок середнього за весь період конверту користувачів з тріального періоду в сплачений другий платіж.\n",
    "    - **Коефіціент конверсії** складає `42.12%`.\n",
    "- Завдання 1.1. Спрогнозувати LTV за пів року життя користувача.\n",
    "    - **Середній дохід на користувача** складає `14.39 USD`.\n",
    "    - **Піврічний Lifetime Value** складає `86.32 USD`.\n",
    "- Завдання 1.2. Зобразити ROMI\n",
    "    - **Рентабельність інвестицій у маркетинг** складає `-48.38%`\n",
    "    - Додано візуалізацію в **[Tableau](https://public.tableau.com/app/profile/illia.ukraintsev/viz/ROMIbydays/ROMI?publish=yes).**"
   ]
  }
 ],
 "metadata": {
  "kernelspec": {
   "display_name": "base",
   "language": "python",
   "name": "python3"
  },
  "language_info": {
   "codemirror_mode": {
    "name": "ipython",
    "version": 3
   },
   "file_extension": ".py",
   "mimetype": "text/x-python",
   "name": "python",
   "nbconvert_exporter": "python",
   "pygments_lexer": "ipython3",
   "version": "3.11.5"
  }
 },
 "nbformat": 4,
 "nbformat_minor": 2
}
